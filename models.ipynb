{
 "cells": [
  {
   "cell_type": "code",
   "execution_count": 73,
   "id": "d2c0c3d6",
   "metadata": {},
   "outputs": [],
   "source": [
    "import pandas as pd\n",
    "from sklearn.model_selection import train_test_split\n",
    "from sklearn.preprocessing import StandardScaler\n",
    "from sklearn.ensemble import RandomForestClassifier\n",
    "from sklearn.linear_model import LogisticRegression\n",
    "from sklearn.svm import SVC\n",
    "from sklearn.metrics import classification_report, accuracy_score, roc_auc_score"
   ]
  },
  {
   "cell_type": "code",
   "execution_count": 74,
   "id": "1e9b14c8",
   "metadata": {},
   "outputs": [],
   "source": [
    "# Load dataset\n",
    "df = pd.read_csv('warehouse_temperature_humidity_2023.csv')"
   ]
  },
  {
   "cell_type": "code",
   "execution_count": 75,
   "id": "3c8e6bd5",
   "metadata": {},
   "outputs": [
    {
     "data": {
      "text/html": [
       "<div>\n",
       "<style scoped>\n",
       "    .dataframe tbody tr th:only-of-type {\n",
       "        vertical-align: middle;\n",
       "    }\n",
       "\n",
       "    .dataframe tbody tr th {\n",
       "        vertical-align: top;\n",
       "    }\n",
       "\n",
       "    .dataframe thead th {\n",
       "        text-align: right;\n",
       "    }\n",
       "</style>\n",
       "<table border=\"1\" class=\"dataframe\">\n",
       "  <thead>\n",
       "    <tr style=\"text-align: right;\">\n",
       "      <th></th>\n",
       "      <th>Timestamp</th>\n",
       "      <th>Temperature</th>\n",
       "      <th>Humidity</th>\n",
       "      <th>HVAC_Status</th>\n",
       "      <th>Failure</th>\n",
       "    </tr>\n",
       "  </thead>\n",
       "  <tbody>\n",
       "    <tr>\n",
       "      <th>0</th>\n",
       "      <td>2023-01-01 00:00:00</td>\n",
       "      <td>13.292200</td>\n",
       "      <td>30.721027</td>\n",
       "      <td>off</td>\n",
       "      <td>0</td>\n",
       "    </tr>\n",
       "    <tr>\n",
       "      <th>1</th>\n",
       "      <td>2023-01-01 01:00:00</td>\n",
       "      <td>23.276265</td>\n",
       "      <td>26.168114</td>\n",
       "      <td>on</td>\n",
       "      <td>0</td>\n",
       "    </tr>\n",
       "    <tr>\n",
       "      <th>2</th>\n",
       "      <td>2023-01-01 02:00:00</td>\n",
       "      <td>11.254413</td>\n",
       "      <td>75.956148</td>\n",
       "      <td>on</td>\n",
       "      <td>0</td>\n",
       "    </tr>\n",
       "    <tr>\n",
       "      <th>3</th>\n",
       "      <td>2023-01-01 03:00:00</td>\n",
       "      <td>24.042563</td>\n",
       "      <td>69.492602</td>\n",
       "      <td>off</td>\n",
       "      <td>0</td>\n",
       "    </tr>\n",
       "    <tr>\n",
       "      <th>4</th>\n",
       "      <td>2023-01-01 04:00:00</td>\n",
       "      <td>17.353710</td>\n",
       "      <td>39.392427</td>\n",
       "      <td>off</td>\n",
       "      <td>0</td>\n",
       "    </tr>\n",
       "  </tbody>\n",
       "</table>\n",
       "</div>"
      ],
      "text/plain": [
       "             Timestamp  Temperature   Humidity HVAC_Status  Failure\n",
       "0  2023-01-01 00:00:00    13.292200  30.721027         off        0\n",
       "1  2023-01-01 01:00:00    23.276265  26.168114          on        0\n",
       "2  2023-01-01 02:00:00    11.254413  75.956148          on        0\n",
       "3  2023-01-01 03:00:00    24.042563  69.492602         off        0\n",
       "4  2023-01-01 04:00:00    17.353710  39.392427         off        0"
      ]
     },
     "execution_count": 75,
     "metadata": {},
     "output_type": "execute_result"
    }
   ],
   "source": [
    "df.head()"
   ]
  },
  {
   "cell_type": "code",
   "execution_count": 76,
   "id": "627a402a",
   "metadata": {},
   "outputs": [],
   "source": [
    "#convert timestamp to datetime\n",
    "df['Timestamp'] = pd.to_datetime(df['Timestamp'])\n",
    "\n",
    "#Convert HVAC_Status to numric\n",
    "df['HVAC_Status'] = df['HVAC_Status'].apply(lambda x: 1 if x == 'on' else 0)"
   ]
  },
  {
   "cell_type": "code",
   "execution_count": 77,
   "id": "2111cc74",
   "metadata": {},
   "outputs": [
    {
     "data": {
      "text/html": [
       "<div>\n",
       "<style scoped>\n",
       "    .dataframe tbody tr th:only-of-type {\n",
       "        vertical-align: middle;\n",
       "    }\n",
       "\n",
       "    .dataframe tbody tr th {\n",
       "        vertical-align: top;\n",
       "    }\n",
       "\n",
       "    .dataframe thead th {\n",
       "        text-align: right;\n",
       "    }\n",
       "</style>\n",
       "<table border=\"1\" class=\"dataframe\">\n",
       "  <thead>\n",
       "    <tr style=\"text-align: right;\">\n",
       "      <th></th>\n",
       "      <th>Timestamp</th>\n",
       "      <th>Temperature</th>\n",
       "      <th>Humidity</th>\n",
       "      <th>HVAC_Status</th>\n",
       "      <th>Failure</th>\n",
       "    </tr>\n",
       "  </thead>\n",
       "  <tbody>\n",
       "    <tr>\n",
       "      <th>0</th>\n",
       "      <td>2023-01-01 00:00:00</td>\n",
       "      <td>13.292200</td>\n",
       "      <td>30.721027</td>\n",
       "      <td>0</td>\n",
       "      <td>0</td>\n",
       "    </tr>\n",
       "    <tr>\n",
       "      <th>1</th>\n",
       "      <td>2023-01-01 01:00:00</td>\n",
       "      <td>23.276265</td>\n",
       "      <td>26.168114</td>\n",
       "      <td>1</td>\n",
       "      <td>0</td>\n",
       "    </tr>\n",
       "    <tr>\n",
       "      <th>2</th>\n",
       "      <td>2023-01-01 02:00:00</td>\n",
       "      <td>11.254413</td>\n",
       "      <td>75.956148</td>\n",
       "      <td>1</td>\n",
       "      <td>0</td>\n",
       "    </tr>\n",
       "    <tr>\n",
       "      <th>3</th>\n",
       "      <td>2023-01-01 03:00:00</td>\n",
       "      <td>24.042563</td>\n",
       "      <td>69.492602</td>\n",
       "      <td>0</td>\n",
       "      <td>0</td>\n",
       "    </tr>\n",
       "    <tr>\n",
       "      <th>4</th>\n",
       "      <td>2023-01-01 04:00:00</td>\n",
       "      <td>17.353710</td>\n",
       "      <td>39.392427</td>\n",
       "      <td>0</td>\n",
       "      <td>0</td>\n",
       "    </tr>\n",
       "  </tbody>\n",
       "</table>\n",
       "</div>"
      ],
      "text/plain": [
       "            Timestamp  Temperature   Humidity  HVAC_Status  Failure\n",
       "0 2023-01-01 00:00:00    13.292200  30.721027            0        0\n",
       "1 2023-01-01 01:00:00    23.276265  26.168114            1        0\n",
       "2 2023-01-01 02:00:00    11.254413  75.956148            1        0\n",
       "3 2023-01-01 03:00:00    24.042563  69.492602            0        0\n",
       "4 2023-01-01 04:00:00    17.353710  39.392427            0        0"
      ]
     },
     "execution_count": 77,
     "metadata": {},
     "output_type": "execute_result"
    }
   ],
   "source": [
    "df.head()"
   ]
  },
  {
   "cell_type": "code",
   "execution_count": 78,
   "id": "47d358f1",
   "metadata": {},
   "outputs": [],
   "source": [
    "# Define features and target\n",
    "X = df[['Temperature', 'Humidity', 'HVAC_Status']]\n",
    "y = df['Failure']"
   ]
  },
  {
   "cell_type": "code",
   "execution_count": 79,
   "id": "b397b0f8",
   "metadata": {},
   "outputs": [],
   "source": [
    "# Split the data into training and testing sets (80/20 split)\n",
    "X_train, X_test, y_train, y_test = train_test_split(X, y, test_size=0.2, random_state=42)"
   ]
  },
  {
   "cell_type": "code",
   "execution_count": 80,
   "id": "345b6d49",
   "metadata": {},
   "outputs": [],
   "source": [
    "# Standardize the features for SVM\n",
    "scaler = StandardScaler()\n",
    "X_train_scaled = scaler.fit_transform(X_train)\n",
    "X_test_scaled = scaler.transform(X_test)"
   ]
  },
  {
   "cell_type": "code",
   "execution_count": 81,
   "id": "cb2a1197",
   "metadata": {},
   "outputs": [
    {
     "name": "stderr",
     "output_type": "stream",
     "text": [
      "C:\\Users\\LENOVO\\anaconda3\\lib\\site-packages\\sklearn\\metrics\\_classification.py:1344: UndefinedMetricWarning: Precision and F-score are ill-defined and being set to 0.0 in labels with no predicted samples. Use `zero_division` parameter to control this behavior.\n",
      "  _warn_prf(average, modifier, msg_start, len(result))\n",
      "C:\\Users\\LENOVO\\anaconda3\\lib\\site-packages\\sklearn\\metrics\\_classification.py:1344: UndefinedMetricWarning: Precision and F-score are ill-defined and being set to 0.0 in labels with no predicted samples. Use `zero_division` parameter to control this behavior.\n",
      "  _warn_prf(average, modifier, msg_start, len(result))\n",
      "C:\\Users\\LENOVO\\anaconda3\\lib\\site-packages\\sklearn\\metrics\\_classification.py:1344: UndefinedMetricWarning: Precision and F-score are ill-defined and being set to 0.0 in labels with no predicted samples. Use `zero_division` parameter to control this behavior.\n",
      "  _warn_prf(average, modifier, msg_start, len(result))\n",
      "C:\\Users\\LENOVO\\anaconda3\\lib\\site-packages\\sklearn\\metrics\\_classification.py:1344: UndefinedMetricWarning: Precision and F-score are ill-defined and being set to 0.0 in labels with no predicted samples. Use `zero_division` parameter to control this behavior.\n",
      "  _warn_prf(average, modifier, msg_start, len(result))\n",
      "C:\\Users\\LENOVO\\anaconda3\\lib\\site-packages\\sklearn\\metrics\\_classification.py:1344: UndefinedMetricWarning: Precision and F-score are ill-defined and being set to 0.0 in labels with no predicted samples. Use `zero_division` parameter to control this behavior.\n",
      "  _warn_prf(average, modifier, msg_start, len(result))\n",
      "C:\\Users\\LENOVO\\anaconda3\\lib\\site-packages\\sklearn\\metrics\\_classification.py:1344: UndefinedMetricWarning: Precision and F-score are ill-defined and being set to 0.0 in labels with no predicted samples. Use `zero_division` parameter to control this behavior.\n",
      "  _warn_prf(average, modifier, msg_start, len(result))\n"
     ]
    }
   ],
   "source": [
    "def evaluate_model(model, X_train, y_train, X_test, y_test):\n",
    "    model.fit(X_train, y_train)\n",
    "    y_pred = model.predict(X_test)\n",
    "    y_pred_proba = model.predict_proba(X_test)[:, 1]\n",
    "    \n",
    "    accuracy = accuracy_score(y_test, y_pred)\n",
    "    roc_auc = roc_auc_score(y_test, y_pred_proba)\n",
    "    \n",
    "    return accuracy, roc_auc, classification_report(y_test, y_pred)\n",
    "\n",
    "# Initialize models\n",
    "models = {\n",
    "    \"Random Forest\": RandomForestClassifier(random_state=42),\n",
    "    \"Logistic Regression\": LogisticRegression(),\n",
    "    \"SVM\": SVC(probability=True)  # Set probability=True for ROC AUC\n",
    "}\n",
    "\n",
    "# Evaluate each model\n",
    "results = {}\n",
    "for model_name, model in models.items():\n",
    "    if model_name == \"SVM\":\n",
    "        accuracy, roc_auc, report = evaluate_model(model, X_train_scaled, y_train, X_test_scaled, y_test)\n",
    "    else:\n",
    "        accuracy, roc_auc, report = evaluate_model(model, X_train, y_train, X_test, y_test)\n",
    "    \n",
    "    results[model_name] = {\n",
    "        \"Accuracy\": accuracy,\n",
    "        \"ROC AUC\": roc_auc,\n",
    "        \"Classification Report\": report\n",
    "    }"
   ]
  },
  {
   "cell_type": "code",
   "execution_count": 82,
   "id": "2244b373",
   "metadata": {},
   "outputs": [
    {
     "name": "stdout",
     "output_type": "stream",
     "text": [
      "Model: Random Forest\n",
      "Accuracy: 0.6564\n",
      "ROC AUC: 0.4972\n",
      "              precision    recall  f1-score   support\n",
      "\n",
      "           0       0.72      0.85      0.78      1264\n",
      "           1       0.29      0.16      0.20       488\n",
      "\n",
      "    accuracy                           0.66      1752\n",
      "   macro avg       0.51      0.50      0.49      1752\n",
      "weighted avg       0.60      0.66      0.62      1752\n",
      "\n",
      "------------------------------------------------------------\n",
      "Model: Logistic Regression\n",
      "Accuracy: 0.7215\n",
      "ROC AUC: 0.5123\n",
      "              precision    recall  f1-score   support\n",
      "\n",
      "           0       0.72      1.00      0.84      1264\n",
      "           1       0.00      0.00      0.00       488\n",
      "\n",
      "    accuracy                           0.72      1752\n",
      "   macro avg       0.36      0.50      0.42      1752\n",
      "weighted avg       0.52      0.72      0.60      1752\n",
      "\n",
      "------------------------------------------------------------\n",
      "Model: SVM\n",
      "Accuracy: 0.7215\n",
      "ROC AUC: 0.4713\n",
      "              precision    recall  f1-score   support\n",
      "\n",
      "           0       0.72      1.00      0.84      1264\n",
      "           1       0.00      0.00      0.00       488\n",
      "\n",
      "    accuracy                           0.72      1752\n",
      "   macro avg       0.36      0.50      0.42      1752\n",
      "weighted avg       0.52      0.72      0.60      1752\n",
      "\n",
      "------------------------------------------------------------\n"
     ]
    }
   ],
   "source": [
    "# Display the results\n",
    "for model_name, metrics in results.items():\n",
    "    print(f\"Model: {model_name}\")\n",
    "    print(f\"Accuracy: {metrics['Accuracy']:.4f}\")\n",
    "    print(f\"ROC AUC: {metrics['ROC AUC']:.4f}\")\n",
    "    print(metrics['Classification Report'])\n",
    "    print(\"-\" * 60)\n"
   ]
  },
  {
   "cell_type": "code",
   "execution_count": 83,
   "id": "bd99a3d6",
   "metadata": {},
   "outputs": [],
   "source": [
    "import matplotlib.pyplot as plt"
   ]
  },
  {
   "cell_type": "code",
   "execution_count": 84,
   "id": "69b718e0",
   "metadata": {},
   "outputs": [],
   "source": [
    "# Prepare data for plotting\n",
    "model_names = list(results.keys())\n",
    "accuracies = [results[model]['Accuracy'] for model in model_names]\n",
    "roc_aucs = [results[model]['ROC AUC'] for model in model_names]"
   ]
  },
  {
   "cell_type": "code",
   "execution_count": 85,
   "id": "e6124940",
   "metadata": {
    "scrolled": true
   },
   "outputs": [
    {
     "data": {
      "image/png": "[encoded data removed]",
      "text/plain": [
       "<Figure size 1200x600 with 2 Axes>"
      ]
     },
     "metadata": {},
     "output_type": "display_data"
    }
   ],
   "source": [
    "# Set the figure size\n",
    "plt.figure(figsize=(12, 6))\n",
    "\n",
    "# Create subplots for Accuracy and ROC AUC\n",
    "plt.subplot(1, 2, 1)\n",
    "plt.bar(model_names, accuracies, color=['blue', 'orange', 'green'])\n",
    "plt.ylim(0, 1)\n",
    "plt.title('Model Accuracy')\n",
    "plt.xlabel('Models')\n",
    "plt.ylabel('Accuracy')\n",
    "plt.grid(axis='y')\n",
    "\n",
    "plt.subplot(1, 2, 2)\n",
    "plt.bar(model_names, roc_aucs, color=['blue', 'orange', 'green'])\n",
    "plt.ylim(0, 1)\n",
    "plt.title('Model ROC AUC')\n",
    "plt.xlabel('Models')\n",
    "plt.ylabel('ROC AUC')\n",
    "plt.grid(axis='y')\n",
    "\n",
    "# Show the plots\n",
    "plt.tight_layout()\n",
    "plt.show()"
   ]
  },
  {
   "cell_type": "code",
   "execution_count": 86,
   "id": "68f82fd9",
   "metadata": {},
   "outputs": [],
   "source": [
    "import pandas as pd\n",
    "\n",
    "# Create a sample data dictionary (use actual values you'd expect in the real world)\n",
    "sample_data = {\n",
    "    'Temperature': [22.5, 35.2, 18.9],  # Sample temperatures\n",
    "    'Humidity': [50, 70, 30],           # Sample humidity levels\n",
    "    'HVAC_Status': [1, 0, 1]            # 1 for ON, 0 for OFF\n",
    "}\n",
    "\n",
    "# Convert the dictionary to a DataFrame\n",
    "sample_df = pd.DataFrame(sample_data)"
   ]
  },
  {
   "cell_type": "code",
   "execution_count": 87,
   "id": "fd1b96fb",
   "metadata": {},
   "outputs": [],
   "source": [
    "# Standardize the sample data (if necessary for models like SVM)\n",
    "sample_scaled = scaler.transform(sample_df)"
   ]
  },
  {
   "cell_type": "code",
   "execution_count": 88,
   "id": "a4eeb373",
   "metadata": {},
   "outputs": [
    {
     "name": "stdout",
     "output_type": "stream",
     "text": [
      "Random Forest Predictions: [0 1 0]\n",
      "Logistic Regression Predictions: [0 0 0]\n",
      "SVM Predictions: [0 0 0]\n"
     ]
    }
   ],
   "source": [
    "# Predict using Random Forest\n",
    "rf_pred = models['Random Forest'].predict(sample_df)\n",
    "\n",
    "# Predict using Logistic Regression\n",
    "lr_pred = models['Logistic Regression'].predict(sample_df)\n",
    "\n",
    "# Predict using SVM (scaled data required for SVM)\n",
    "svm_pred = models['SVM'].predict(sample_scaled)\n",
    "\n",
    "# Print the results\n",
    "print(\"Random Forest Predictions:\", rf_pred)\n",
    "print(\"Logistic Regression Predictions:\", lr_pred)\n",
    "print(\"SVM Predictions:\", svm_pred)\n"
   ]
  },
  {
   "cell_type": "code",
   "execution_count": 89,
   "id": "d7e2a520",
   "metadata": {},
   "outputs": [],
   "source": [
    "import pickle"
   ]
  },
  {
   "cell_type": "code",
   "execution_count": 90,
   "id": "b82269ae",
   "metadata": {},
   "outputs": [],
   "source": [
    "# Save each model\n",
    "with open('random_forest_model.pkl', 'wb') as rf_file:\n",
    "    pickle.dump(models['Random Forest'], rf_file)\n",
    "\n",
    "with open('logistic_regression_model.pkl', 'wb') as lr_file:\n",
    "    pickle.dump(models['Logistic Regression'], lr_file)\n",
    "\n",
    "with open('svm_model.pkl', 'wb') as svm_file:\n",
    "    pickle.dump(models['SVM'], svm_file)"
   ]
  },
  {
   "cell_type": "code",
   "execution_count": 91,
   "id": "d3145fd0",
   "metadata": {},
   "outputs": [],
   "source": [
    "# Load the models\n",
    "with open('random_forest_model.pkl', 'rb') as rf_file:\n",
    "    rf_model = pickle.load(rf_file)\n",
    "\n",
    "with open('logistic_regression_model.pkl', 'rb') as lr_file:\n",
    "    lr_model = pickle.load(lr_file)\n",
    "\n",
    "with open('svm_model.pkl', 'rb') as svm_file:\n",
    "    svm_model = pickle.load(svm_file)"
   ]
  },
  {
   "cell_type": "code",
   "execution_count": 92,
   "id": "5316d3b9",
   "metadata": {},
   "outputs": [
    {
     "name": "stdout",
     "output_type": "stream",
     "text": [
      "Random Forest Prediction: 1\n",
      "Logistic Regression Prediction: 0\n",
      "SVM Prediction: 0\n"
     ]
    },
    {
     "name": "stderr",
     "output_type": "stream",
     "text": [
      "C:\\Users\\LENOVO\\anaconda3\\lib\\site-packages\\sklearn\\base.py:420: UserWarning: X does not have valid feature names, but RandomForestClassifier was fitted with feature names\n",
      "  warnings.warn(\n",
      "C:\\Users\\LENOVO\\anaconda3\\lib\\site-packages\\sklearn\\base.py:420: UserWarning: X does not have valid feature names, but LogisticRegression was fitted with feature names\n",
      "  warnings.warn(\n",
      "C:\\Users\\LENOVO\\anaconda3\\lib\\site-packages\\sklearn\\base.py:420: UserWarning: X does not have valid feature names, but StandardScaler was fitted with feature names\n",
      "  warnings.warn(\n"
     ]
    }
   ],
   "source": [
    "import numpy as np\n",
    "\n",
    "def predict_failure(model, temperature, humidity, hvac_status):\n",
    "    # Prepare the input data\n",
    "    sample_data = np.array([[temperature, humidity, hvac_status]])\n",
    "    \n",
    "    # If using SVM, scale the input data\n",
    "    if isinstance(model, SVC):  # Check if it's the SVM model\n",
    "        sample_data = scaler.transform(sample_data)\n",
    "    \n",
    "    # Make prediction\n",
    "    prediction = model.predict(sample_data)\n",
    "    return prediction[0]  # Return the class (0 or 1)\n",
    "\n",
    "# Example usage\n",
    "temperature = 25  # Example temperature\n",
    "humidity = 50     # Example humidity\n",
    "hvac_status = 1   # HVAC is ON\n",
    "\n",
    "rf_prediction = predict_failure(rf_model, temperature, humidity, hvac_status)\n",
    "lr_prediction = predict_failure(lr_model, temperature, humidity, hvac_status)\n",
    "svm_prediction = predict_failure(svm_model, temperature, humidity, hvac_status)\n",
    "\n",
    "print(f\"Random Forest Prediction: {rf_prediction}\")\n",
    "print(f\"Logistic Regression Prediction: {lr_prediction}\")\n",
    "print(f\"SVM Prediction: {svm_prediction}\")"
   ]
  },
  {
   "cell_type": "code",
   "execution_count": 93,
   "id": "ec680f7d",
   "metadata": {},
   "outputs": [
    {
     "name": "stdout",
     "output_type": "stream",
     "text": [
      "Random Forest Prediction: 0\n",
      "Logistic Regression Prediction: 0\n",
      "SVM Prediction: 0\n"
     ]
    },
    {
     "name": "stderr",
     "output_type": "stream",
     "text": [
      "C:\\Users\\LENOVO\\anaconda3\\lib\\site-packages\\sklearn\\base.py:420: UserWarning: X does not have valid feature names, but RandomForestClassifier was fitted with feature names\n",
      "  warnings.warn(\n",
      "C:\\Users\\LENOVO\\anaconda3\\lib\\site-packages\\sklearn\\base.py:420: UserWarning: X does not have valid feature names, but LogisticRegression was fitted with feature names\n",
      "  warnings.warn(\n",
      "C:\\Users\\LENOVO\\anaconda3\\lib\\site-packages\\sklearn\\base.py:420: UserWarning: X does not have valid feature names, but StandardScaler was fitted with feature names\n",
      "  warnings.warn(\n"
     ]
    }
   ],
   "source": [
    "# Example usage\n",
    "temperature = 15.7798573604024  # Example temperature\n",
    "humidity = 29.4164078916985     # Example humidity\n",
    "hvac_status = 0   # HVAC is OFF\n",
    "\n",
    "rf_prediction = predict_failure(rf_model, temperature, humidity, hvac_status)\n",
    "lr_prediction = predict_failure(lr_model, temperature, humidity, hvac_status)\n",
    "svm_prediction = predict_failure(svm_model, temperature, humidity, hvac_status)\n",
    "\n",
    "print(f\"Random Forest Prediction: {rf_prediction}\")\n",
    "print(f\"Logistic Regression Prediction: {lr_prediction}\")\n",
    "print(f\"SVM Prediction: {svm_prediction}\")"
   ]
  },
  {
   "cell_type": "code",
   "execution_count": 94,
   "id": "a9469962",
   "metadata": {},
   "outputs": [
    {
     "name": "stdout",
     "output_type": "stream",
     "text": [
      "Random Forest Prediction: 0\n",
      "Logistic Regression Prediction: 0\n",
      "SVM Prediction: 0\n"
     ]
    },
    {
     "name": "stderr",
     "output_type": "stream",
     "text": [
      "C:\\Users\\LENOVO\\anaconda3\\lib\\site-packages\\sklearn\\base.py:420: UserWarning: X does not have valid feature names, but RandomForestClassifier was fitted with feature names\n",
      "  warnings.warn(\n",
      "C:\\Users\\LENOVO\\anaconda3\\lib\\site-packages\\sklearn\\base.py:420: UserWarning: X does not have valid feature names, but LogisticRegression was fitted with feature names\n",
      "  warnings.warn(\n",
      "C:\\Users\\LENOVO\\anaconda3\\lib\\site-packages\\sklearn\\base.py:420: UserWarning: X does not have valid feature names, but StandardScaler was fitted with feature names\n",
      "  warnings.warn(\n"
     ]
    }
   ],
   "source": [
    "# Example usage\n",
    "temperature = 21.2108355629688  # Example temperature\n",
    "humidity = 68.3691517083928     # Example humidity\n",
    "hvac_status = 0   # HVAC is OFF\n",
    "\n",
    "rf_prediction = predict_failure(rf_model, temperature, humidity, hvac_status)\n",
    "lr_prediction = predict_failure(lr_model, temperature, humidity, hvac_status)\n",
    "svm_prediction = predict_failure(svm_model, temperature, humidity, hvac_status)\n",
    "\n",
    "print(f\"Random Forest Prediction: {rf_prediction}\")\n",
    "print(f\"Logistic Regression Prediction: {lr_prediction}\")\n",
    "print(f\"SVM Prediction: {svm_prediction}\")"
   ]
  },
  {
   "cell_type": "code",
   "execution_count": 95,
   "id": "c6b55512",
   "metadata": {},
   "outputs": [
    {
     "name": "stdout",
     "output_type": "stream",
     "text": [
      "Random Forest Prediction: 1\n",
      "Logistic Regression Prediction: 0\n",
      "SVM Prediction: 0\n"
     ]
    },
    {
     "name": "stderr",
     "output_type": "stream",
     "text": [
      "C:\\Users\\LENOVO\\anaconda3\\lib\\site-packages\\sklearn\\base.py:420: UserWarning: X does not have valid feature names, but RandomForestClassifier was fitted with feature names\n",
      "  warnings.warn(\n",
      "C:\\Users\\LENOVO\\anaconda3\\lib\\site-packages\\sklearn\\base.py:420: UserWarning: X does not have valid feature names, but LogisticRegression was fitted with feature names\n",
      "  warnings.warn(\n",
      "C:\\Users\\LENOVO\\anaconda3\\lib\\site-packages\\sklearn\\base.py:420: UserWarning: X does not have valid feature names, but StandardScaler was fitted with feature names\n",
      "  warnings.warn(\n"
     ]
    }
   ],
   "source": [
    "# Example usage\n",
    "temperature = 21.1807411280719  # Example temperature\n",
    "humidity = 41.8814935141343     # Example humidity\n",
    "hvac_status = 0   # HVAC is OFF\n",
    "\n",
    "rf_prediction = predict_failure(rf_model, temperature, humidity, hvac_status)\n",
    "lr_prediction = predict_failure(lr_model, temperature, humidity, hvac_status)\n",
    "svm_prediction = predict_failure(svm_model, temperature, humidity, hvac_status)\n",
    "\n",
    "print(f\"Random Forest Prediction: {rf_prediction}\")\n",
    "print(f\"Logistic Regression Prediction: {lr_prediction}\")\n",
    "print(f\"SVM Prediction: {svm_prediction}\")"
   ]
  },
  {
   "cell_type": "code",
   "execution_count": null,
   "id": "4fcbbe56",
   "metadata": {},
   "outputs": [],
   "source": []
  }
 ],
 "metadata": {
  "kernelspec": {
   "display_name": "Python 3 (ipykernel)",
   "language": "python",
   "name": "python3"
  },
  "language_info": {
   "codemirror_mode": {
    "name": "ipython",
    "version": 3
   },
   "file_extension": ".py",
   "mimetype": "text/x-python",
   "name": "python",
   "nbconvert_exporter": "python",
   "pygments_lexer": "ipython3",
   "version": "3.10.9"
  }
 },
 "nbformat": 4,
 "nbformat_minor": 5
}
